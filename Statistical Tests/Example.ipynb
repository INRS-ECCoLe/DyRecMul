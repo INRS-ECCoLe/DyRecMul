{
 "cells": [
  {
   "cell_type": "code",
   "execution_count": 9,
   "metadata": {},
   "outputs": [],
   "source": [
    "#---------------------------------------------------------------------------\n",
    "#                ___________\n",
    "#    ______     /   ____    ____      _          ______\n",
    "#   |  ____|   /   /    INRS    \\    | |        |  ____|\n",
    "#   | |       /   /     Edge     \\   | |        | |\n",
    "#   | |____  /   /    Computing   \\  | |        | |____\n",
    "#   |  ____| \\   \\  Communication /  | |        |  ____|   \n",
    "#   | |       \\   \\   Learning   /   | |        | |\n",
    "#   | |____    \\   \\_____LAB____/    | |_____   | |____\n",
    "#   |______|    \\ ___________        |_______|  |______|\n",
    "#\n",
    "#  Edge Computing, Communication and Learning Lab - INRS University\n",
    "#\n",
    "#  Author: Mobin Vaziri\n",
    "#\n",
    "#  Project: Reconfigurable MAC\n",
    "#  \n",
    "#  Creation Date: 2023-06-18\n",
    "#\n",
    "#  Description: Statistical tests for the approximate multiplier. \n",
    "#---------------------------------------------------------------------------"
   ]
  },
  {
   "cell_type": "code",
   "execution_count": 10,
   "metadata": {},
   "outputs": [],
   "source": [
    "from stat_tests import *"
   ]
  },
  {
   "cell_type": "code",
   "execution_count": 11,
   "metadata": {},
   "outputs": [],
   "source": [
    "path_1, path_2, path_3 = \"mul8s_acc.h\", \"LUT_C.h\", \"mul8s_1L2H.h\"\n",
    "\n",
    "exac_mul = extract_array_elements(path_1, 8)\n",
    "\n",
    "approx_mul_1 = extract_array_elements(path_2, 8)\n",
    "approx_mul_2 = extract_array_elements(path_3, 8)\n",
    "\n",
    "'''\n",
    "The following line is added because our hardware only holds msot significand 8 bits of the result.\n",
    "If the output of your approximate multiplier is 16 bits, then just comment the following line.\n",
    "\n",
    "'''\n",
    "\n",
    "exac_mul_m = np.array(np.round(exac_mul / 128) * 128, dtype=np.int16)  "
   ]
  },
  {
   "cell_type": "code",
   "execution_count": 12,
   "metadata": {},
   "outputs": [],
   "source": [
    "write_stat_values_to_csv(exac_mul_m, approx_mul_1, 8, path_2, \"output.csv\")\n",
    "write_stat_values_to_csv(exac_mul, approx_mul_2, 8, path_3, \"output.csv\")"
   ]
  }
 ],
 "metadata": {
  "kernelspec": {
   "display_name": "base",
   "language": "python",
   "name": "python3"
  },
  "language_info": {
   "codemirror_mode": {
    "name": "ipython",
    "version": 3
   },
   "file_extension": ".py",
   "mimetype": "text/x-python",
   "name": "python",
   "nbconvert_exporter": "python",
   "pygments_lexer": "ipython3",
   "version": "3.9.7"
  },
  "orig_nbformat": 4
 },
 "nbformat": 4,
 "nbformat_minor": 2
}
